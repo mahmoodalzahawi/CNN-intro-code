{
  "nbformat": 4,
  "nbformat_minor": 0,
  "metadata": {
    "colab": {
      "provenance": [],
      "gpuType": "T4",
      "authorship_tag": "ABX9TyO9RoS9nsENY1qK3q23VYod",
      "include_colab_link": true
    },
    "kernelspec": {
      "name": "python3",
      "display_name": "Python 3"
    },
    "language_info": {
      "name": "python"
    },
    "accelerator": "GPU"
  },
  "cells": [
    {
      "cell_type": "markdown",
      "metadata": {
        "id": "view-in-github",
        "colab_type": "text"
      },
      "source": [
        "<a href=\"https://colab.research.google.com/github/mahmoodalzahawi/CNN-intro-code/blob/main/CNN_beta_code.ipynb\" target=\"_parent\"><img src=\"https://colab.research.google.com/assets/colab-badge.svg\" alt=\"Open In Colab\"/></a>"
      ]
    },
    {
      "cell_type": "code",
      "source": [
        "import torch\n",
        "import torch.nn as nn\n",
        "import torch.nn.functional as f\n",
        "from torch.utils.data import DataLoader\n",
        "from torchvision import datasets, transforms\n",
        "from torchvision.utils import make_grid\n",
        "\n",
        "import numpy as np\n",
        "import pandas as pd\n",
        "from sklearn.metrics import confusion_matrix\n",
        "import matplotlib.pyplot as plt\n",
        "%matplotlib inline"
      ],
      "metadata": {
        "id": "gY-ghjfvYtg3"
      },
      "execution_count": 30,
      "outputs": []
    },
    {
      "cell_type": "code",
      "source": [
        "# convert MNISt image files into tensor of 4-dimensions (of images, height, width, color channel)\n",
        "transform = transforms.ToTensor()"
      ],
      "metadata": {
        "id": "fJNNE04XZ2Y4"
      },
      "execution_count": 31,
      "outputs": []
    },
    {
      "cell_type": "code",
      "source": [
        "#train\n",
        "train_data=datasets.MNIST(root='/cnn_data',train=True,download=True,transform=transform)"
      ],
      "metadata": {
        "id": "QTgPphh2aazs"
      },
      "execution_count": 32,
      "outputs": []
    },
    {
      "cell_type": "code",
      "source": [
        "#test\n",
        "test_data=datasets.MNIST(root='/cnn_data',train=False,download=True,transform=transform)\n"
      ],
      "metadata": {
        "id": "kze0IsRUazIj"
      },
      "execution_count": 33,
      "outputs": []
    },
    {
      "cell_type": "code",
      "source": [
        "train_data"
      ],
      "metadata": {
        "colab": {
          "base_uri": "https://localhost:8080/"
        },
        "id": "EzoztuuLeQ9_",
        "outputId": "23d9c6ff-9703-4af1-b4d7-82628867e8d6"
      },
      "execution_count": 34,
      "outputs": [
        {
          "output_type": "execute_result",
          "data": {
            "text/plain": [
              "Dataset MNIST\n",
              "    Number of datapoints: 60000\n",
              "    Root location: /cnn_data\n",
              "    Split: Train\n",
              "    StandardTransform\n",
              "Transform: ToTensor()"
            ]
          },
          "metadata": {},
          "execution_count": 34
        }
      ]
    },
    {
      "cell_type": "code",
      "source": [
        "test_data"
      ],
      "metadata": {
        "colab": {
          "base_uri": "https://localhost:8080/"
        },
        "id": "Qf22ExztezAX",
        "outputId": "fdf02db9-fee6-45b2-f708-79fba6bea103"
      },
      "execution_count": 35,
      "outputs": [
        {
          "output_type": "execute_result",
          "data": {
            "text/plain": [
              "Dataset MNIST\n",
              "    Number of datapoints: 10000\n",
              "    Root location: /cnn_data\n",
              "    Split: Test\n",
              "    StandardTransform\n",
              "Transform: ToTensor()"
            ]
          },
          "metadata": {},
          "execution_count": 35
        }
      ]
    },
    {
      "cell_type": "code",
      "source": [
        "#create a small batch of images let's say 10\n",
        "train_loader=DataLoader(train_data,batch_size=10,shuffle=True)\n",
        "test_loader=DataLoader(test_data,batch_size=10,shuffle=False)"
      ],
      "metadata": {
        "id": "a1yw4w_ofipH"
      },
      "execution_count": 36,
      "outputs": []
    },
    {
      "cell_type": "code",
      "source": [
        "#define our cnn model\n",
        "#decribe convo layer and what's it doing (2 covo layer)\n",
        "conv1=nn.Conv2d(in_channels=1,out_channels=6,kernel_size=3,stride=1)\n",
        "conv2=nn.Conv2d(in_channels=6,out_channels=16,kernel_size=3,stride=1)"
      ],
      "metadata": {
        "id": "9mytSDE-h2aI"
      },
      "execution_count": 37,
      "outputs": []
    },
    {
      "cell_type": "code",
      "source": [
        "#grab 1 MNIST record\n",
        "for i,(X_train,y_train) in enumerate(train_data):\n",
        "    break"
      ],
      "metadata": {
        "id": "cAQTxt-Pijwk"
      },
      "execution_count": 38,
      "outputs": []
    },
    {
      "cell_type": "code",
      "source": [
        "X_train.shape"
      ],
      "metadata": {
        "colab": {
          "base_uri": "https://localhost:8080/"
        },
        "id": "fOvuzdARiuat",
        "outputId": "f33dd779-4a5a-48e2-a215-883a09ef1e00"
      },
      "execution_count": 39,
      "outputs": [
        {
          "output_type": "execute_result",
          "data": {
            "text/plain": [
              "torch.Size([1, 28, 28])"
            ]
          },
          "metadata": {},
          "execution_count": 39
        }
      ]
    },
    {
      "cell_type": "code",
      "source": [
        "x= X_train.view(1,1,28,28)"
      ],
      "metadata": {
        "id": "54YRGo4Hi5Ja"
      },
      "execution_count": 40,
      "outputs": []
    },
    {
      "cell_type": "code",
      "source": [
        "#perform our first convolution\n",
        "x=f.relu(conv1(x)) #rectified Linear Unit fro our activation function\n",
        "\n"
      ],
      "metadata": {
        "id": "oUgEMf_ujDW0"
      },
      "execution_count": 41,
      "outputs": []
    },
    {
      "cell_type": "code",
      "source": [
        "#1 single image\n",
        "#6 is the fiilters we asked for\n",
        "#26 by 26 is the image\n",
        "x.shape"
      ],
      "metadata": {
        "colab": {
          "base_uri": "https://localhost:8080/"
        },
        "id": "D0Dnbx76jg1m",
        "outputId": "49cdef96-34b7-4bbf-8052-7b19b41c0c34"
      },
      "execution_count": 42,
      "outputs": [
        {
          "output_type": "execute_result",
          "data": {
            "text/plain": [
              "torch.Size([1, 6, 26, 26])"
            ]
          },
          "metadata": {},
          "execution_count": 42
        }
      ]
    },
    {
      "cell_type": "code",
      "source": [
        "#pass thru the pooling layer\n",
        "x= f.max_pool2d(x,2,2) #kernal of 2 and stride of 2"
      ],
      "metadata": {
        "id": "zqwFqIp4jnF-"
      },
      "execution_count": 43,
      "outputs": []
    },
    {
      "cell_type": "code",
      "source": [
        "#in the pooling process your lost the un necesserary data by 2 as we defined in the pooling layer\n",
        "x.shape"
      ],
      "metadata": {
        "colab": {
          "base_uri": "https://localhost:8080/"
        },
        "id": "1lSnZMTckZ12",
        "outputId": "fdb5d814-588e-4553-cd52-5c1af9c1353f"
      },
      "execution_count": 44,
      "outputs": [
        {
          "output_type": "execute_result",
          "data": {
            "text/plain": [
              "torch.Size([1, 6, 13, 13])"
            ]
          },
          "metadata": {},
          "execution_count": 44
        }
      ]
    },
    {
      "cell_type": "code",
      "source": [],
      "metadata": {
        "id": "mDZaORIrkilF"
      },
      "execution_count": 44,
      "outputs": []
    }
  ]
}